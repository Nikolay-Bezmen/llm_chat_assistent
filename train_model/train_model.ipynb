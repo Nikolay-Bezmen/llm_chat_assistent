{
 "cells": [
  {
   "cell_type": "code",
   "execution_count": 94,
   "id": "0f68c65f-cc3a-47b0-89b9-0c0d096b1f14",
   "metadata": {
    "execution": {
     "iopub.execute_input": "2025-04-17T21:34:43.869853Z",
     "iopub.status.busy": "2025-04-17T21:34:43.866424Z",
     "iopub.status.idle": "2025-04-17T21:34:44.249569Z",
     "shell.execute_reply": "2025-04-17T21:34:44.247545Z",
     "shell.execute_reply.started": "2025-04-17T21:34:43.869704Z"
    },
    "tags": []
   },
   "outputs": [
    {
     "data": {
      "text/plain": [
       "4"
      ]
     },
     "execution_count": 94,
     "metadata": {},
     "output_type": "execute_result"
    }
   ],
   "source": [
    "from transformers import GPT2Tokenizer\n",
    "from torch.utils.data import DataLoader\n",
    "import torch\n",
    "tokenizer = GPT2Tokenizer.from_pretrained(\"gpt2\")\n",
    "tokenizer.add_special_tokens({\n",
    "    \"pad_token\": \"[PAD]\",\n",
    "    \"unk_token\": \"[UNK]\",\n",
    "    \"bos_token\": \"[BOS]\",\n",
    "    \"eos_token\": \"[EOS]\",\n",
    "})"
   ]
  },
  {
   "cell_type": "code",
   "execution_count": 96,
   "id": "3e083a4e-de5d-41a9-b51a-75ab6875eff2",
   "metadata": {
    "execution": {
     "iopub.execute_input": "2025-04-17T21:34:58.900010Z",
     "iopub.status.busy": "2025-04-17T21:34:58.896526Z",
     "iopub.status.idle": "2025-04-17T21:35:00.374604Z",
     "shell.execute_reply": "2025-04-17T21:35:00.371581Z",
     "shell.execute_reply.started": "2025-04-17T21:34:58.899892Z"
    },
    "tags": []
   },
   "outputs": [],
   "source": [
    "from datasets import load_dataset\n",
    "\n",
    "dataset = load_dataset(\"Skylion007/openwebtext\", streaming=True, split=\"train\")"
   ]
  },
  {
   "cell_type": "code",
   "execution_count": 97,
   "id": "64c7ecc3-7d3e-4239-8dd8-0113704004c4",
   "metadata": {
    "execution": {
     "iopub.execute_input": "2025-04-17T21:35:01.637629Z",
     "iopub.status.busy": "2025-04-17T21:35:01.634126Z",
     "iopub.status.idle": "2025-04-17T21:35:01.701318Z",
     "shell.execute_reply": "2025-04-17T21:35:01.698334Z",
     "shell.execute_reply.started": "2025-04-17T21:35:01.637470Z"
    },
    "tags": []
   },
   "outputs": [],
   "source": [
    "def process_batch(batch, max_length=512):\n",
    "    processed = {\"input_ids\": [], \"attention_mask\": []}\n",
    "    \n",
    "    for text in batch[\"text\"]:\n",
    "        encoded = tokenizer.encode(\n",
    "            tokenizer.bos_token + text + tokenizer.eos_token,\n",
    "            max_length=max_length,\n",
    "            truncation=True,\n",
    "            padding=\"max_length\",\n",
    "            return_tensors=\"pt\"\n",
    "        )\n",
    "        \n",
    "        attention_mask = (encoded != tokenizer.pad_token_id).int()\n",
    "        \n",
    "        processed[\"input_ids\"].append(encoded)\n",
    "        processed[\"attention_mask\"].append(attention_mask)\n",
    "    \n",
    "    return processed\n"
   ]
  },
  {
   "cell_type": "code",
   "execution_count": 98,
   "id": "825d4436-5ca8-41e8-b2f6-2af712f1cfb2",
   "metadata": {
    "execution": {
     "iopub.execute_input": "2025-04-17T21:35:04.623412Z",
     "iopub.status.busy": "2025-04-17T21:35:04.620458Z",
     "iopub.status.idle": "2025-04-17T21:35:04.681369Z",
     "shell.execute_reply": "2025-04-17T21:35:04.677974Z",
     "shell.execute_reply.started": "2025-04-17T21:35:04.623206Z"
    },
    "tags": []
   },
   "outputs": [],
   "source": [
    "processed_dataset = dataset.map(\n",
    "    process_batch,\n",
    "    batched=True,\n",
    "    batch_size=100,\n",
    "    remove_columns=[\"text\"]\n",
    ")"
   ]
  },
  {
   "cell_type": "code",
   "execution_count": 100,
   "id": "2c47250b-7af0-4f9f-b92a-ae20d5fc47aa",
   "metadata": {
    "execution": {
     "iopub.execute_input": "2025-04-17T21:38:50.316164Z",
     "iopub.status.busy": "2025-04-17T21:38:50.311531Z",
     "iopub.status.idle": "2025-04-17T21:38:50.351172Z",
     "shell.execute_reply": "2025-04-17T21:38:50.348133Z",
     "shell.execute_reply.started": "2025-04-17T21:38:50.316013Z"
    },
    "tags": []
   },
   "outputs": [],
   "source": [
    "def collate_fn(batch):\n",
    "    return {\n",
    "        \"input_ids\": torch.stack([item[\"input_ids\"] for item in batch]),\n",
    "        \"attention_mask\": torch.stack([item[\"attention_mask\"] for item in batch])\n",
    "    }\n",
    "shuffled_dataset = processed_dataset.shuffle(buffer_size=1000)\n",
    "\n",
    "dataloader = DataLoader(\n",
    "    shuffled_dataset,\n",
    "    batch_size=32,\n",
    "    collate_fn=collate_fn,\n",
    "    num_workers=4,\n",
    "    pin_memory=True\n",
    ")"
   ]
  }
 ],
 "metadata": {
  "kernelspec": {
   "display_name": "DataSphere Kernel",
   "language": "python",
   "name": "python3"
  },
  "language_info": {
   "codemirror_mode": {
    "name": "ipython",
    "version": 3
   },
   "file_extension": ".py",
   "mimetype": "text/x-python",
   "name": "python",
   "nbconvert_exporter": "python",
   "pygments_lexer": "ipython3",
   "version": "3.10.12"
  }
 },
 "nbformat": 4,
 "nbformat_minor": 5
}
