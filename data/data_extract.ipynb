{
 "cells": [
  {
   "cell_type": "code",
   "execution_count": 2,
   "id": "cc3b91b7-bfec-4c6f-8f90-d8f069a0d341",
   "metadata": {
    "execution": {
     "iopub.execute_input": "2025-04-14T12:15:21.003134Z",
     "iopub.status.busy": "2025-04-14T12:15:21.000416Z",
     "iopub.status.idle": "2025-04-14T12:15:23.958507Z",
     "shell.execute_reply": "2025-04-14T12:15:23.955846Z",
     "shell.execute_reply.started": "2025-04-14T12:15:21.003000Z"
    },
    "tags": []
   },
   "outputs": [
    {
     "name": "stdout",
     "output_type": "stream",
     "text": [
      "Defaulting to user installation because normal site-packages is not writeable\n",
      "Requirement already satisfied: datasets in /home/jupyter/.local/lib/python3.10/site-packages (3.5.0)\n",
      "Requirement already satisfied: filelock in /usr/local/lib/python3.10/dist-packages (from datasets) (3.12.2)\n",
      "Requirement already satisfied: numpy>=1.17 in /usr/local/lib/python3.10/dist-packages (from datasets) (1.22.4)\n",
      "Requirement already satisfied: pyarrow>=15.0.0 in /home/jupyter/.local/lib/python3.10/site-packages (from datasets) (19.0.1)\n",
      "Requirement already satisfied: dill<0.3.9,>=0.3.0 in /home/jupyter/.local/lib/python3.10/site-packages (from datasets) (0.3.8)\n",
      "Requirement already satisfied: pandas in /usr/local/lib/python3.10/dist-packages (from datasets) (1.5.3)\n",
      "Requirement already satisfied: requests>=2.32.2 in /home/jupyter/.local/lib/python3.10/site-packages (from datasets) (2.32.3)\n",
      "Requirement already satisfied: tqdm>=4.66.3 in /home/jupyter/.local/lib/python3.10/site-packages (from datasets) (4.67.1)\n",
      "Requirement already satisfied: xxhash in /home/jupyter/.local/lib/python3.10/site-packages (from datasets) (3.5.0)\n",
      "Requirement already satisfied: multiprocess<0.70.17 in /home/jupyter/.local/lib/python3.10/site-packages (from datasets) (0.70.16)\n",
      "Requirement already satisfied: fsspec<=2024.12.0,>=2023.1.0 in /usr/local/lib/python3.10/dist-packages (from fsspec[http]<=2024.12.0,>=2023.1.0->datasets) (2023.6.0)\n",
      "Requirement already satisfied: aiohttp in /usr/local/lib/python3.10/dist-packages (from datasets) (3.8.5)\n",
      "Requirement already satisfied: huggingface-hub>=0.24.0 in /home/jupyter/.local/lib/python3.10/site-packages (from datasets) (0.30.1)\n",
      "Requirement already satisfied: packaging in /usr/local/lib/python3.10/dist-packages (from datasets) (23.1)\n",
      "Requirement already satisfied: pyyaml>=5.1 in /usr/local/lib/python3.10/dist-packages (from datasets) (6.0.1)\n",
      "Requirement already satisfied: attrs>=17.3.0 in /usr/local/lib/python3.10/dist-packages (from aiohttp->datasets) (23.1.0)\n",
      "Requirement already satisfied: charset-normalizer<4.0,>=2.0 in /usr/local/lib/python3.10/dist-packages (from aiohttp->datasets) (2.0.12)\n",
      "Requirement already satisfied: multidict<7.0,>=4.5 in /usr/local/lib/python3.10/dist-packages (from aiohttp->datasets) (6.0.4)\n",
      "Requirement already satisfied: async-timeout<5.0,>=4.0.0a3 in /usr/local/lib/python3.10/dist-packages (from aiohttp->datasets) (4.0.2)\n",
      "Requirement already satisfied: yarl<2.0,>=1.0 in /usr/local/lib/python3.10/dist-packages (from aiohttp->datasets) (1.9.2)\n",
      "Requirement already satisfied: frozenlist>=1.1.1 in /usr/local/lib/python3.10/dist-packages (from aiohttp->datasets) (1.4.0)\n",
      "Requirement already satisfied: aiosignal>=1.1.2 in /usr/local/lib/python3.10/dist-packages (from aiohttp->datasets) (1.3.1)\n",
      "Requirement already satisfied: typing-extensions>=3.7.4.3 in /home/jupyter/.local/lib/python3.10/site-packages (from huggingface-hub>=0.24.0->datasets) (4.13.1)\n",
      "Requirement already satisfied: idna<4,>=2.5 in /usr/local/lib/python3.10/dist-packages (from requests>=2.32.2->datasets) (3.4)\n",
      "Requirement already satisfied: urllib3<3,>=1.21.1 in /usr/local/lib/python3.10/dist-packages (from requests>=2.32.2->datasets) (1.26.16)\n",
      "Requirement already satisfied: certifi>=2017.4.17 in /usr/local/lib/python3.10/dist-packages (from requests>=2.32.2->datasets) (2023.7.22)\n",
      "Requirement already satisfied: python-dateutil>=2.8.1 in /usr/local/lib/python3.10/dist-packages (from pandas->datasets) (2.8.2)\n",
      "Requirement already satisfied: pytz>=2020.1 in /usr/local/lib/python3.10/dist-packages (from pandas->datasets) (2022.7.1)\n",
      "Requirement already satisfied: six>=1.5 in /usr/lib/python3/dist-packages (from python-dateutil>=2.8.1->pandas->datasets) (1.16.0)\n",
      "\n",
      "\u001b[1m[\u001b[0m\u001b[34;49mnotice\u001b[0m\u001b[1;39;49m]\u001b[0m\u001b[39;49m A new release of pip is available: \u001b[0m\u001b[31;49m23.0.1\u001b[0m\u001b[39;49m -> \u001b[0m\u001b[32;49m25.0.1\u001b[0m\n",
      "\u001b[1m[\u001b[0m\u001b[34;49mnotice\u001b[0m\u001b[1;39;49m]\u001b[0m\u001b[39;49m To update, run: \u001b[0m\u001b[32;49mpython3 -m pip install --upgrade pip\u001b[0m\n"
     ]
    }
   ],
   "source": [
    "%pip install datasets"
   ]
  },
  {
   "cell_type": "code",
   "execution_count": 3,
   "id": "f304e36d-f7bc-4b2b-845d-a28beb85c720",
   "metadata": {
    "execution": {
     "iopub.execute_input": "2025-04-14T12:15:28.778580Z",
     "iopub.status.busy": "2025-04-14T12:15:28.776209Z",
     "iopub.status.idle": "2025-04-14T12:16:40.207805Z",
     "shell.execute_reply": "2025-04-14T12:16:40.205841Z",
     "shell.execute_reply.started": "2025-04-14T12:15:28.778446Z"
    },
    "tags": []
   },
   "outputs": [
    {
     "name": "stderr",
     "output_type": "stream",
     "text": [
      "Generating train split: 100%|██████████| 599093/599093 [00:36<00:00, 16296.88 examples/s] \n"
     ]
    }
   ],
   "source": [
    "from datasets import load_dataset\n",
    "\n",
    "# Загрузка всего датасета\n",
    "dataset = load_dataset(\"lamhieu/mabrycodes_dialogue_en\")\n",
    "\n",
    "# Или только train/validation/test части\n",
    "# dataset = load_dataset(\"lamhieu/mabrycodes_dialogue_en\", split=\"train\")"
   ]
  },
  {
   "cell_type": "code",
   "execution_count": 26,
   "id": "ba5a336a-5c8f-4dab-83c5-f47cec8dddfc",
   "metadata": {
    "execution": {
     "iopub.execute_input": "2025-04-14T12:27:16.691329Z",
     "iopub.status.busy": "2025-04-14T12:27:16.688177Z",
     "iopub.status.idle": "2025-04-14T12:27:40.622358Z",
     "shell.execute_reply": "2025-04-14T12:27:40.619449Z",
     "shell.execute_reply.started": "2025-04-14T12:27:16.691205Z"
    },
    "tags": []
   },
   "outputs": [],
   "source": [
    "all_texts = []\n",
    "for qa in dataset[\"train\"]:\n",
    "    user = qa[\"messages\"][0][\"content\"]\n",
    "    assistent = qa[\"messages\"][1][\"content\"]\n",
    "    all_texts.append(user)\n",
    "    all_texts.append(assistent)"
   ]
  },
  {
   "cell_type": "code",
   "execution_count": 20,
   "id": "02789a08-0cee-497c-b839-b20661439998",
   "metadata": {
    "execution": {
     "iopub.execute_input": "2025-04-14T12:23:48.095295Z",
     "iopub.status.busy": "2025-04-14T12:23:48.092946Z",
     "iopub.status.idle": "2025-04-14T12:23:48.285825Z",
     "shell.execute_reply": "2025-04-14T12:23:48.283521Z",
     "shell.execute_reply.started": "2025-04-14T12:23:48.095177Z"
    },
    "tags": []
   },
   "outputs": [],
   "source": [
    "from tokenizers import Tokenizer\n",
    "from tokenizers.models import BPE\n",
    "from tokenizers.trainers import BpeTrainer\n",
    "from tokenizers.pre_tokenizers import Whitespace"
   ]
  },
  {
   "cell_type": "code",
   "execution_count": 27,
   "id": "6b45aa5e-c94c-4105-b245-386918bffb18",
   "metadata": {
    "execution": {
     "iopub.execute_input": "2025-04-14T12:27:56.119972Z",
     "iopub.status.busy": "2025-04-14T12:27:56.117029Z",
     "iopub.status.idle": "2025-04-14T12:28:58.550717Z",
     "shell.execute_reply": "2025-04-14T12:28:58.539034Z",
     "shell.execute_reply.started": "2025-04-14T12:27:56.119878Z"
    },
    "tags": []
   },
   "outputs": [
    {
     "name": "stdout",
     "output_type": "stream",
     "text": [
      "\n",
      "\n",
      "\n"
     ]
    }
   ],
   "source": [
    "tokenizer = Tokenizer(BPE(unk_token=\"[UNK]\"))\n",
    "tokenizer.pre_tokenizer = Whitespace()\n",
    "\n",
    "trainer = BpeTrainer(\n",
    "    special_tokens=[\"[UNK]\", \"[PAD]\", \"[SOS]\", \"[EOS]\"],\n",
    "    vocab_size=30000,  # Размер словаря\n",
    "    min_frequency=2    # Минимальная частота для включения в словарь\n",
    ")\n",
    "\n",
    "\n",
    "tokenizer.train_from_iterator(all_texts, trainer)\n",
    "\n",
    "# Сохранение токенизатора\n",
    "tokenizer.save(\"dialogue_bpe_tokenizer.json\")"
   ]
  },
  {
   "cell_type": "code",
   "execution_count": 28,
   "id": "9d01986d-2464-4e40-9da3-90fc7829099c",
   "metadata": {
    "execution": {
     "iopub.execute_input": "2025-04-14T12:32:49.679206Z",
     "iopub.status.busy": "2025-04-14T12:32:49.676179Z",
     "iopub.status.idle": "2025-04-14T12:32:49.928293Z",
     "shell.execute_reply": "2025-04-14T12:32:49.926840Z",
     "shell.execute_reply.started": "2025-04-14T12:32:49.679083Z"
    },
    "tags": []
   },
   "outputs": [
    {
     "name": "stdout",
     "output_type": "stream",
     "text": [
      "Токены: ['Hello', ',', 'how', 'are', 'you', '?']\n",
      "ID: [8287, 16, 3965, 3617, 3719, 35]\n"
     ]
    }
   ],
   "source": [
    "# Загрузка обученного токенизатора\n",
    "tokenizer = Tokenizer.from_file(\"dialogue_bpe_tokenizer.json\")\n",
    "\n",
    "# Пример кодирования\n",
    "sample_text = \"Hello, how are you?\"\n",
    "encoding = tokenizer.encode(sample_text)\n",
    "\n",
    "print(\"Токены:\", encoding.tokens)\n",
    "print(\"ID:\", encoding.ids)"
   ]
  }
 ],
 "metadata": {
  "kernelspec": {
   "display_name": "DataSphere Kernel",
   "language": "python",
   "name": "python3"
  },
  "language_info": {
   "codemirror_mode": {
    "name": "ipython",
    "version": 3
   },
   "file_extension": ".py",
   "mimetype": "text/x-python",
   "name": "python",
   "nbconvert_exporter": "python",
   "pygments_lexer": "ipython3",
   "version": "3.10.12"
  }
 },
 "nbformat": 4,
 "nbformat_minor": 5
}
